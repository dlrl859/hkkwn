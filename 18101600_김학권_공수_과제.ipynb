{
  "nbformat": 4,
  "nbformat_minor": 0,
  "metadata": {
    "colab": {
      "name": "18101600 김학권 공수 과제.ipynb",
      "provenance": [],
      "collapsed_sections": [],
      "include_colab_link": true
    },
    "kernelspec": {
      "name": "python2",
      "display_name": "Python 2"
    }
  },
  "cells": [
    {
      "cell_type": "markdown",
      "metadata": {
        "id": "view-in-github",
        "colab_type": "text"
      },
      "source": [
        "<a href=\"https://colab.research.google.com/github/dlrl859/hkkwn/blob/master/18101600_%EA%B9%80%ED%95%99%EA%B6%8C_%EA%B3%B5%EC%88%98_%EA%B3%BC%EC%A0%9C.ipynb\" target=\"_parent\"><img src=\"https://colab.research.google.com/assets/colab-badge.svg\" alt=\"Open In Colab\"/></a>"
      ]
    },
    {
      "cell_type": "markdown",
      "metadata": {
        "id": "b7HSrYyoLKHg",
        "colab_type": "text"
      },
      "source": [
        "**1. Laplace's Equation in the Sphere**"
      ]
    },
    {
      "cell_type": "markdown",
      "metadata": {
        "id": "quHuySapLxA5",
        "colab_type": "text"
      },
      "source": [
        ">$\\begin{align*}\n",
        " u_{rr} +\\frac{2}{r} u_r &+\\frac{1}{r^2}u_{\\phi\\phi} +\\frac{\\cot\\phi}{r^2} u_{\\phi} +\\frac{1}{r^2\\sin^2\\phi}u_{\\theta\\theta} = 0, \\;\\; r < R \\\\ \n",
        " u(R,\\phi,\\theta) &= g(\\phi,\\theta)\\\\ \n",
        "\\end{align*}$\n",
        "\n"
      ]
    },
    {
      "cell_type": "markdown",
      "metadata": {
        "id": "t9RomCcqL0rg",
        "colab_type": "text"
      },
      "source": [
        "(a) 의 풀이\n"
      ]
    },
    {
      "cell_type": "markdown",
      "metadata": {
        "id": "YGxboGifL930",
        "colab_type": "text"
      },
      "source": [
        "#변수분리\n",
        "\n",
        "$\\displaystyle u(r,\\phi,\\theta) =R(r)D(\\phi)O(\\theta) $\n",
        "\n",
        "$\\displaystyle \\frac{d^2 R}{d r^2}DO+\\frac{2}{r}\\frac{dlR}{d r}DO+\\frac{1}{r^2\\sin^2\\theta}\\frac{dl^2O}{dl\\theta^2}DR+\\frac{cos\\phi}{r^2sin\\phi}\\frac{d D}{d\\phi}OR+\\frac{1}{r^2}\\frac{d^2D}{d\\phi^2}OR=0$ \n",
        "\n",
        "#식을 ROD로 나눔\n",
        "\n",
        "$\\frac{r^2sin^2\\phi}{DRO}DO\\frac{d^2R}{d r^2}+\\frac2r\\frac{r^2sin^2\\phi}{DRO}DO\\frac{d R}{d r}$\n",
        "\n",
        "$\\frac{1}{r^2sin^2\\phi}\\frac{r^2sin^2\\phi}{DRO}DR\\frac{d O}{d \\theta}$\n",
        "\n",
        "$+\\frac{cos\\phi}{r^2sin\\phi}\\frac{r^2sin^2\\phi}{DRO}\\frac{d ^2 D}{d \\phi^2}OR=0$\n",
        "\n",
        "#이것을 정리하면\n",
        "\n",
        "$(\\frac{r^2sin^2\\phi}{R}\\frac{d R}{d r^2}+\\frac{2rsin^2\\phi}{R}\\frac{d R}{dl r})+(\\frac1\\theta\\frac{d^2O}{d \\theta^2})+(\\frac{cos\\phi sin\\phi}{D}\\frac{d D}{d \\phi}+\\frac{sin^2\\phi}{D}\\frac{d ^2D}{d \\phi^2})=0$\n",
        "\n",
        "#정한파이다.\n",
        "\n",
        "$ \\frac {d^2 O}{d \\theta^2}\\frac{1}{O}= -m^2$\n",
        "\n",
        "$O(\\theta)=A_{m}e^{im\\theta}$\n",
        "\n",
        "$O(\\theta)=S_{m}sin(m\\theta)+C_mcos(m\\theta)$\n",
        "\n",
        "$\\frac{r}{R}\\frac{dl ^2 R}{dl r^2}+\\frac{2r}{R}\\frac{d R}{d r} +\\frac{1}{sin^2}(\\frac{cos\\phi sin\\phi}{D}+\\frac{sin^2\\phi}{D}{d^2D}{dD^2}-m^2)=0$\n",
        "\n",
        "#반지름 부분은 상수이다.\n",
        "\n",
        "$\\frac{r^2}{R}\\frac{d^2R}{dr^2}+\\frac{2r}{R}\\frac{dR}{dr}=l(l+1)$\n",
        "\n",
        "#이것을 R로 나누면\n",
        "\n",
        "$r^2\\frac{d^2}{dr^2}+2r\\frac{dR}{dr}=l(l+1)R$\n",
        "\n",
        "#오일러 미분 방정식이다.\n",
        "\n",
        "$R= \\sum_{n=0}^\\infty a_n r^(n+c)$\n",
        "\n",
        "\n",
        "이 때, \n",
        "\n",
        "$r^2=\\sum_{n=0}^\\infty (n+c)(n+c-1) a_n r^{n+c-2}+2r\\sum_{n=0}^\\infty (n+c)a_n r^{n+c-1} - l(l+1)\\sum_{n=0}^\\infty a_n r^{n+c}=0$\n",
        "이 때, $r^2=\\sum_{n=0}^\\infty (n+c)(n+c-1) a_n r^{n+c-2}+2r\\sum_{n=0}^\\infty (n+c)a_n r^{n+c-1} - l(l+1)\\sum_{n=0}^\\infty a_n r^{n+c}=0$\n",
        "\n",
        "$\\sum_{n=0}^\\infty (n+c)(n+c-1)a_n r^{n+c-2} - 2\\sum_{n=0}^\\infty (n+c) a_n r^{n+c}- l(l+1)\\sum_{n=0}^\\infty a_n r^{n+c}=0$\n",
        "\n",
        "$\\sum_{n=0}^\\infty [(n+c)(n+c-1)-l(l+1)] a_n r^{n+c}=0$\n",
        "\n",
        "$c(c=1)=l(l=1)$\n",
        "$ R_{l}(r)= A_{l}r^l + B_l  r^{-l-1}$\n",
        "\n",
        "$l(l+1)- \\frac{m^2}{sin^(\\phi)}+\\frac{cos(\\phi)}{sin(\\phi)} \\frac{1}{D} \\frac{dD}{d\\phi}+\\frac{1}{D} \\frac{d^2D}{dD^2}=0$\n",
        "$\\frac{d^2D}{d^(\\phi^2)}+\\frac{cos(\\phi)}{sin(\\phi)} \\frac{dD}{d\\phi} +[l(l+1)-\\frac{m^2}{sin^(\\phi)}]$\n",
        "\n",
        "$x=cos\\phi$ 이고, \n",
        "\n",
        "$m=0,1,2,.....l$\n",
        "$\\sum_{l=0}^\\infty \\sum_{m=-l}^l (A_{l}r^l+B_{l}r^{-l-1})p_{l}^m(cos(\\phi)e^{2m\\theta}$\n",
        "$\\sum_{l=0}^\\infty \\sum_{m=-l}^l (A_{l}r^l+B_{l}r^{-l-1}) Y_{l}^m(\\phi , \\theta) $\n",
        "\n",
        "#이 때 ,\n",
        "\n",
        "$Y_{l}^m(\\phi , \\theta)=p_{l}^m(cos(\\phi)e^{-im\\theta }$\n",
        "\n",
        "\n",
        "\n",
        " $\\sum_{l=0}^\\infty \\sum_{m=0}^l (A_{l}r^l+B_{l}r^{-l-1})p_{l}^m(cos(\\phi)[S_m sin(m\\theta) + C_m cost(m\\theta)]$\n",
        "\n",
        "#상수 중 일부는 $P_l^m(cos\\phi)$에 흡수되므로\n",
        "\n",
        " $\\sum_{l=0}^\\infty \\sum_{m=0}^l (A_{l}r^l+B_{l}r^{-l-1})p_{l}^m(cos(\\phi)[S_l^m sin(m\\theta) + C_l^m cos(m\\theta)]$\n",
        "  $\\sum_{l=0}^\\infty \\sum_{m=0}^l (A_{l}r^l+B_{l}r^{-l-1})[S_l^m Y_l^{m(0)}(\\theta , \\phi)+ C_l^m Y_l^{m(e)} (\\theta, \\phi)]$\n",
        "\n",
        " #이 때 ,\n",
        "\n",
        "\n",
        " $ Y_l^{m(0)}(\\theta, \\phi)= P_l^m(cos\\phi)sin(m\\theta)$\n",
        " $ Y_l^{m(l)}(\\theta, \\phi)= P_l^m(cos\\phi)cos(m\\theta)$\n"
      ]
    },
    {
      "cell_type": "markdown",
      "metadata": {
        "id": "MWhL2YQF7vY8",
        "colab_type": "text"
      },
      "source": [
        "(b) 같은 적분식에서  K(r,ϕ,θ;R,φ,ϑ) 를 구한다.\n",
        ">$\\displaystyle u(r,\\phi,\\theta) = \\int_0^{2\\pi} \\int_0^\\pi K(r,\\phi,\\theta; R,\\varphi,\\vartheta)\\, g(\\varphi,\\vartheta) \\sin\\varphi \\,d\\varphi \\, d\\vartheta$"
      ]
    },
    {
      "cell_type": "markdown",
      "metadata": {
        "id": "30NngKZSGELi",
        "colab_type": "text"
      },
      "source": [
        "P, P', Q 점을 아래와 같이 정의하자.\n",
        "\n",
        ">$\\begin{align*}\n",
        " \\; &P(r,\\phi,\\theta), P'(\\frac{1}{r},\\phi,\\theta), Q(R,\\vartheta,\\varphi) \\;\\;\\; \\\\\n",
        " \\end{align*}$\n",
        "\n",
        "PQ=L, PQ'=L'이라 할때\n",
        ">$\\begin{align*}\n",
        " \\; &L^2=r^2+R^2 -2rR\\cos(\\gamma) \\;\\;\\; \\\\\n",
        " \\end{align*}$"
      ]
    },
    {
      "cell_type": "markdown",
      "metadata": {
        "id": "xeu-tyL9GTZd",
        "colab_type": "text"
      },
      "source": [
        ">$\\begin{align*}\n",
        " \\; &L'^2=(\\frac{1}{r^2})^2+R^2 -2(\\frac{1}{r^2})R\\cos(\\gamma) \\;\\;\\; \\\\\n",
        " \\end{align*}$\n",
        " \n",
        " >$\\begin{align*}\n",
        " \\; &\\cos(\\gamma)=\\cos(\\theta)\\cos(\\vartheta)+\\sin(\\theta)\\sin(\\vartheta)\\cos(\\phi-\\varphi) \\;\\;\\; \\\\\n",
        " \\end{align*}$\n",
        " \n",
        "  >$\\begin{align*}\n",
        " \\; &\\frac{1}{r^2}(r^2u_r)_r=4\\pi\\delta(r) \\;\\;\\; \\\\\n",
        " \\end{align*}$\n",
        " \n",
        "   >$\\begin{align*}\n",
        " \\; &\\int\\frac{1}{r^2}(r^2u_r)_r=\\int4\\pi\\delta(r)dr \\;\\;\\; \\\\\n",
        " \\end{align*}$\n",
        " \n",
        " Dirac delta function이므로\n",
        " \n",
        "   >$\\begin{align*}\n",
        " \\; &\\frac{1}{r^2}(r^2u_r)_r=4\\pi \\;\\;\\; \\\\\n",
        " \\end{align*}$\n",
        " \n",
        "   >$\\begin{align*}\n",
        " \\; &v=\\frac{1}{r^2}, dv=-\\frac{2}{r^3}dr \\;\\;\\; \\\\\n",
        " \\end{align*}$\n",
        " \n",
        "   >$\\begin{align*}\n",
        " \\; &du=\\frac{d}{dr}[r^2\\frac{dG}{dr}]dr, v=r^2\\frac{dG}{dr} \\;\\;\\; \\\\\n",
        " \\end{align*}$\n",
        " \n",
        "   >$\\begin{align*}\n",
        " \\; &(\\frac{1}{r^2})(r^2\\frac{dG}{dr})-\\int(r^2\\frac{dG}{dr})(-\\frac{2}{r^3}dr) = 4\\pi \\;\\;\\; \\\\\n",
        " \\end{align*}$\n",
        " \n",
        "   >$\\begin{align*}\n",
        " \\; &\\frac{dG}{dr}+2\\int\\frac{1}{r}\\frac{dG}{dr}dr = 4\\pi \\;\\;\\; \\\\\n",
        " \\end{align*}$\n",
        " \n",
        "   >$\\begin{align*}\n",
        " \\; &v=\\frac{1}{r}, dv=-\\frac{1}{r^2}dr \\;\\;\\; \\\\\n",
        " \\end{align*}$\n",
        " \n",
        "   >$\\begin{align*}\n",
        " \\; &du=\\frac{dG}{dr}dr, u=G \\;\\;\\; \\\\\n",
        " \\end{align*}$\n",
        " \n",
        "   >$\\begin{align*}\n",
        " \\; &\\frac{dG}{dr}+2[(\\frac{1}{r})(G)-\\int(G(-\\frac{1}{r^2}dr)] = 4\\pi \\;\\;\\; \\\\\n",
        " \\end{align*}$\n",
        " \n",
        "   >$\\begin{align*}\n",
        " \\; &\\frac{dG}{dr}+2[\\frac{G}{r}+\\int\\frac{G}{r^2}dr] = 4\\pi \\;\\;\\; \\\\\n",
        " \\end{align*}$\n",
        " \n",
        "   >$\\begin{align*}\n",
        " \\; &\\frac{dG}{dr}+\\frac{2G}{r}+2\\int\\frac{G}{r^2}dr = 4\\pi \\;\\;\\; \\\\\n",
        " \\end{align*}$ \n",
        " \n",
        "   >$\\begin{align*}\n",
        " \\; &\\frac{d^2G}{dr^2}+(\\frac{2}{r}\\frac{dG}{dr}-\\frac{2G}{r^2})+\\frac{2G}{r} = 0 \\;\\;\\; \\\\\n",
        " \\end{align*}$ \n",
        "\n",
        "   >$\\begin{align*}\n",
        " \\; &\\frac{d^2G}{dr^2}+\\frac{2}{r}\\frac{dG}{dr} = 0 \\;\\;\\; \\\\\n",
        " \\end{align*}$ \n",
        " \n",
        "  >$\\begin{align*}\n",
        " \\; &G(Q,P)=\\frac{1}{L}-\\frac{1}{rL'} \\;\\;\\; \\\\\n",
        " \\end{align*}$"
      ]
    },
    {
      "cell_type": "markdown",
      "metadata": {
        "id": "SPCgu_AbGUiC",
        "colab_type": "text"
      },
      "source": [
        " $\\displaystyle u(r,\\phi,\\theta) = \\int_0^{2\\pi} \\int_0^\\pi K(r,\\phi,\\theta; R,\\varphi,\\vartheta)\\, g(\\varphi,\\vartheta) \\sin\\varphi \\,d\\varphi \\, d\\vartheta$"
      ]
    },
    {
      "cell_type": "markdown",
      "metadata": {
        "id": "EhTvFPp0GYEO",
        "colab_type": "text"
      },
      "source": [
        "  >$\\begin{align*}\n",
        " \\; &K(r,\\phi,\\theta;R,\\varphi,\\vartheta)=\\frac{1}{L}-\\frac{1}{rL'} \\;\\;\\; \\\\\n",
        " \\end{align*}$"
      ]
    },
    {
      "cell_type": "markdown",
      "metadata": {
        "id": "axqVdWqBGZt6",
        "colab_type": "text"
      },
      "source": [
        ">$\\begin{align*}\n",
        " \\; &L^2=r^2+R^2 -2rR\\cos(\\gamma) \\;\\;\\; \\\\\n",
        " \\end{align*}$\n",
        " >$\\begin{align*}\n",
        " \\; &L'^2=(\\frac{1}{r^2})^2+R^2 -2(\\frac{1}{r^2})R\\cos(\\gamma) \\;\\;\\; \\\\\n",
        " \\end{align*}$\n",
        "  >$\\begin{align*}\n",
        " \\; &\\cos(\\gamma)=\\cos(\\theta)\\cos(\\vartheta)+\\sin(\\theta)\\sin(\\vartheta)\\cos(\\phi-\\varphi) \\;\\;\\; \\\\\n",
        " \\end{align*}$ 이므로"
      ]
    },
    {
      "cell_type": "markdown",
      "metadata": {
        "id": "BdshptXRGceW",
        "colab_type": "text"
      },
      "source": [
        "따라서 $\\displaystyle u(r,\\phi,\\theta) = \\int_0^{2\\pi} \\int_0^\\pi (\\frac{1}{L}-\\frac{1}{rL'})\\, g(\\varphi,\\vartheta) \\sin\\varphi \\,d\\varphi \\, d\\vartheta$\n",
        "\n",
        ">단,$\\begin{align*}\n",
        " \\; &L^2=r^2+R^2 -2rR\\cos(\\gamma) \\;\\;\\; \\\\\n",
        " \\end{align*}$\n",
        " >$\\begin{align*}\n",
        " \\; &L'^2=(\\frac{1}{r^2})^2+R^2 -2(\\frac{1}{r^2})R\\cos(\\gamma) \\;\\;\\; \\\\\n",
        " \\end{align*}$\n",
        "  >$\\begin{align*}\n",
        " \\; &\\cos(\\gamma)=\\cos(\\theta)\\cos(\\vartheta)+\\sin(\\theta)\\sin(\\vartheta)\\cos(\\phi-\\varphi) \\;\\;\\; \\\\\n",
        " \\end{align*}$"
      ]
    },
    {
      "cell_type": "markdown",
      "metadata": {
        "id": "kSb1C52LEPUe",
        "colab_type": "text"
      },
      "source": [
        "**2. Poisson's Equation for the Sphere**"
      ]
    },
    {
      "cell_type": "markdown",
      "metadata": {
        "id": "zGcoiGeuMI36",
        "colab_type": "text"
      },
      "source": [
        "We consider the problem\n",
        "\n",
        ">$\\begin{align*}\n",
        " u_{rr} +\\frac{2}{r} u_r &+\\frac{1}{r^2}u_{\\phi\\phi} +\\frac{\\cot\\phi}{r^2} u_{\\phi} +\\frac{1}{r^2\\sin^2\\phi}u_{\\theta\\theta} = -F(r,\\phi,\\theta), \\;\\; r < R \\\\ \n",
        " u(R,\\phi,\\theta) &= 0\\\\ \n",
        "\\end{align*}$"
      ]
    },
    {
      "cell_type": "markdown",
      "metadata": {
        "id": "FPxq75HgD_qh",
        "colab_type": "text"
      },
      "source": [
        "(a) 유한 푸리에 변환으로 풀기"
      ]
    },
    {
      "cell_type": "markdown",
      "metadata": {
        "id": "cl4qaXd57TUi",
        "colab_type": "text"
      },
      "source": [
        "#포아송 방정식에 대한 일반적인 풀이\n",
        ">$\\displaystyle \\nabla^2 \\phi = \\frac{\\rho}{\\epsilon_0} $\n",
        "\n",
        "\n"
      ]
    },
    {
      "cell_type": "markdown",
      "metadata": {
        "id": "hBMMuC0WDzo0",
        "colab_type": "text"
      },
      "source": [
        "#포아송 방정식에 대한 일반적인 3 차원 그린 함수\n",
        ">$\\displaystyle G(r,r^\\prime) = -\\frac{1}{4\\pi(r-r^\\prime)} $"
      ]
    },
    {
      "cell_type": "markdown",
      "metadata": {
        "id": "7B2GDaeA7ZYN",
        "colab_type": "text"
      },
      "source": [
        "#구형 좌표\n",
        ">$\\displaystyle G(r,r^\\prime) = -\\frac{1}{4\\pi(r^2-2rr^\\prime cos\\gamma-r^{\\prime 2} )^{\\frac{1}{2}}} $"
      ]
    },
    {
      "cell_type": "markdown",
      "metadata": {
        "id": "xtZ7Wi0aM1yP",
        "colab_type": "text"
      },
      "source": [
        "#한편,\n",
        ">$\\displaystyle cos\\gamma=cos\\theta cos\\theta^\\prime + sin\\theta sin\\theta^prime cos(\\varphi-\\varphi^\\prime) $"
      ]
    },
    {
      "cell_type": "markdown",
      "metadata": {
        "id": "wqOmHKbOM4rB",
        "colab_type": "text"
      },
      "source": [
        "#r 과 사이 각도 r'에 대해\n",
        ">$\\displaystyle G(r,r^\\prime)= -\\frac{1}{4\\pi r^\\prime} \\sum_{l=0}^\\infty (\\frac{r^\\prime}{r})^l P_l(cos\\gamma) $"
      ]
    },
    {
      "cell_type": "markdown",
      "metadata": {
        "id": "7pzFa9cSGHVU",
        "colab_type": "text"
      },
      "source": [
        "#r'<r, 그리고\n",
        ">$\\displaystyle G(r,r^\\prime)= -\\frac{1}{4\\pi r^\\prime} \\sum_{l=0}^\\infty (\\frac{r}{r^\\prime})^l P_l(cos\\gamma) $"
      ]
    },
    {
      "cell_type": "markdown",
      "metadata": {
        "id": "YyZKMVm_HKrM",
        "colab_type": "text"
      },
      "source": [
        "#구형 고조파 가산 정리\n",
        ">$\\displaystyle G(r,r^\\prime)=\\sum_{l=0}^\\infty \\sum_{m=-l}^{m=+l} \\frac{1}{2l+1}  (\\frac{r_<^l}{r_> ^{l+1}}) Y_{l,m}(\\theta^\\prime, \\varphi^\\prime)Y_{l,m}(\\theta,\\varphi) $"
      ]
    },
    {
      "cell_type": "markdown",
      "metadata": {
        "id": "ZGaC8JOSHHcX",
        "colab_type": "text"
      },
      "source": [
        "# $\\displaystyle r_< $ 은 더 작은 r"
      ]
    },
    {
      "cell_type": "markdown",
      "metadata": {
        "id": "oi2d5k1MKEOE",
        "colab_type": "text"
      },
      "source": [
        "#$\\displaystyle r_> $ 은 더 큰 r"
      ]
    },
    {
      "cell_type": "markdown",
      "metadata": {
        "id": "7F4Jwu227_jU",
        "colab_type": "text"
      },
      "source": [
        "#포아송 방정식에 대한 일반적인 해법\n",
        ">$\\displaystyle {\\phi}(r) = -\\frac{1}{\\epsilon_0} \\int G(r, r^\\prime)\\, \\rho(r^\\prime) \\,d\\ V^\\prime $"
      ]
    },
    {
      "cell_type": "markdown",
      "metadata": {
        "id": "Xd6qFlpl-9-Y",
        "colab_type": "text"
      },
      "source": [
        "\n",
        ">$\\displaystyle {\\phi}(r) = \\frac{1}{\\epsilon_0} \\sum_{l=0}^\\infty \\sum_{m=-l}^{m=l} \\frac{1}{2l+1} [r^l P_{l,m}(r) + \\frac{q_{l,m}(r)}{r^{l+1}}] Y_{l,m}(\\theta. \\varphi) $"
      ]
    },
    {
      "cell_type": "markdown",
      "metadata": {
        "id": "191KAvpY7JAj",
        "colab_type": "text"
      },
      "source": [
        "#그 결과,\n",
        ">$\\displaystyle P_{l,m}(r) = \\int_r^{∞} ∮ (1/r^{\\prime l+1})p(r \\prime,\\theta, \\varphi)\\, Y_{l,m}(\\theta, \\varphi) \\,\\rho^{\\prime 2} \\,d\\ Ω \\,d\\ r^\\prime$,\n"
      ]
    },
    {
      "cell_type": "markdown",
      "metadata": {
        "id": "aOC1gWBD7OjX",
        "colab_type": "text"
      },
      "source": [
        ">$\\displaystyle q_{l,m}(r) = \\int_0^{r} ∮ r^{\\prime l}p(r \\prime,\\theta, \\varphi)\\, Y_{l,m}(\\theta, \\varphi) \\,\\rho^{\\prime 2} \\,d\\ Ω \\,d\\ r^\\prime$."
      ]
    }
  ]
}